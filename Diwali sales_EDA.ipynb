{
 "cells": [
  {
   "cell_type": "code",
   "execution_count": null,
   "id": "54080277-90d7-452d-8753-8eafa8089a2b",
   "metadata": {},
   "outputs": [],
   "source": [
    "import numpy as np\n",
    "import pandas as pd\n",
    "import matplotlib.pyplot as plt\n",
    "%matplotlib inline\n",
    "import seaborn as sns"
   ]
  },
  {
   "cell_type": "code",
   "execution_count": null,
   "id": "187cb9ab-ab78-420c-a845-d37128369e48",
   "metadata": {},
   "outputs": [],
   "source": [
    "df = pd.read_csv(r'C:\\Users\\LENOVO\\Documents\\Python_Diwali_Sales_Analysis-main\\Diwali Sales Data.csv', encoding= 'unicode_escape')\n",
    "\n"
   ]
  },
  {
   "cell_type": "code",
   "execution_count": null,
   "id": "cbf1122b-cfb8-4af9-beb0-908b51473acc",
   "metadata": {},
   "outputs": [],
   "source": [
    "df"
   ]
  },
  {
   "cell_type": "code",
   "execution_count": null,
   "id": "87a24a4a-5559-4544-b9f5-8e23559c9926",
   "metadata": {},
   "outputs": [],
   "source": [
    "df.info"
   ]
  },
  {
   "cell_type": "code",
   "execution_count": null,
   "id": "1de69edb-2ee1-4fc1-bda9-c08f7544075b",
   "metadata": {},
   "outputs": [],
   "source": [
    "df.info()"
   ]
  },
  {
   "cell_type": "code",
   "execution_count": null,
   "id": "eb00f679-02d5-4f45-93f1-d47ef903c4f7",
   "metadata": {},
   "outputs": [],
   "source": [
    "df.shape"
   ]
  },
  {
   "cell_type": "code",
   "execution_count": null,
   "id": "ffedfc2b-2ca9-419b-8576-6bcf7de8b376",
   "metadata": {},
   "outputs": [],
   "source": [
    "df.head()"
   ]
  },
  {
   "cell_type": "code",
   "execution_count": null,
   "id": "e95784d8-edf7-4a1a-b6dc-0fc1a067957c",
   "metadata": {},
   "outputs": [],
   "source": [
    "df.head(11)"
   ]
  },
  {
   "cell_type": "code",
   "execution_count": null,
   "id": "c6722c5a-2585-473e-b944-92d22e5de52b",
   "metadata": {},
   "outputs": [],
   "source": [
    "df.info()"
   ]
  },
  {
   "cell_type": "code",
   "execution_count": null,
   "id": "9ac9b783-7e2e-434f-bce7-85a473f449f3",
   "metadata": {},
   "outputs": [],
   "source": [
    "df.drop(['Status','unnamed1'],axis= 1 , inplace = True)"
   ]
  },
  {
   "cell_type": "code",
   "execution_count": null,
   "id": "26f19d94-40cc-4772-b001-9383e9a45aa1",
   "metadata": {},
   "outputs": [],
   "source": [
    "df.info()"
   ]
  },
  {
   "cell_type": "code",
   "execution_count": null,
   "id": "e9de25b4-94b2-426a-9936-46758f8efae8",
   "metadata": {},
   "outputs": [],
   "source": [
    "df.isnull()"
   ]
  },
  {
   "cell_type": "code",
   "execution_count": null,
   "id": "c03cc06d-7571-4385-b844-4c34d185be3d",
   "metadata": {},
   "outputs": [],
   "source": [
    "df.isnull().sum()"
   ]
  },
  {
   "cell_type": "code",
   "execution_count": null,
   "id": "4c12e045-cbd2-4028-bc15-100f1b271998",
   "metadata": {},
   "outputs": [],
   "source": [
    "df.dropna(inplace=True)"
   ]
  },
  {
   "cell_type": "code",
   "execution_count": null,
   "id": "f836ec6f-b52b-4fe8-9994-51620d49a48f",
   "metadata": {},
   "outputs": [],
   "source": [
    "df.isnull().sum()"
   ]
  },
  {
   "cell_type": "code",
   "execution_count": null,
   "id": "c620b3bb-098f-41bc-9f47-21a5ce2466bd",
   "metadata": {},
   "outputs": [],
   "source": [
    "df.info()"
   ]
  },
  {
   "cell_type": "code",
   "execution_count": null,
   "id": "d22942ae-4f09-4253-a7e1-f368770ed736",
   "metadata": {},
   "outputs": [],
   "source": [
    "df['Amount'].dtypes"
   ]
  },
  {
   "cell_type": "code",
   "execution_count": null,
   "id": "eaf12218-68f2-4d28-a6f5-6628c0fd7251",
   "metadata": {},
   "outputs": [],
   "source": [
    "df['Amount']=df['Amount'].astype('int')"
   ]
  },
  {
   "cell_type": "code",
   "execution_count": null,
   "id": "c73b6b5b-a6ee-4835-9ab8-e498a5fbc4b2",
   "metadata": {},
   "outputs": [],
   "source": [
    "df['Amount'].dtypes"
   ]
  },
  {
   "cell_type": "code",
   "execution_count": null,
   "id": "10a1ee5b-028a-4821-ac76-71da0ebf7c29",
   "metadata": {},
   "outputs": [],
   "source": [
    "df.columns"
   ]
  },
  {
   "cell_type": "code",
   "execution_count": null,
   "id": "122efc50-a8e7-45b9-aa0b-b42c76503f4b",
   "metadata": {},
   "outputs": [],
   "source": [
    "df.rename(columns = {'Marital_Status':'Shaadhi'}, inplace = True)"
   ]
  },
  {
   "cell_type": "code",
   "execution_count": null,
   "id": "14be411f-c6ac-4984-975c-20dbc0dd386b",
   "metadata": {},
   "outputs": [],
   "source": [
    "df.info()"
   ]
  },
  {
   "cell_type": "code",
   "execution_count": null,
   "id": "169650cd-0ffc-49b0-ba63-651f713e4ed9",
   "metadata": {},
   "outputs": [],
   "source": [
    "df.describe()"
   ]
  },
  {
   "cell_type": "code",
   "execution_count": null,
   "id": "1a5f4b5a-36ad-43c3-9e1a-8be88333d431",
   "metadata": {},
   "outputs": [],
   "source": [
    "df[[\"Age\",\"Amount\"]].describe()"
   ]
  },
  {
   "cell_type": "code",
   "execution_count": null,
   "id": "9e1db0e2-dd13-45e1-ae25-a19cad1210c1",
   "metadata": {},
   "outputs": [],
   "source": [
    "ax = sns.countplot(x = 'Gender',data = df)\n",
    "for bars in ax.containers:\n",
    "    ax.bar_label(bars)"
   ]
  },
  {
   "cell_type": "code",
   "execution_count": null,
   "id": "abb57299-9d31-4689-b9d2-2cb814992ce2",
   "metadata": {},
   "outputs": [],
   "source": [
    "sales_gen =  df.groupby(['Gender'], as_index = False)['Amount'].sum().sort_values(by='Amount',ascending = False)\n",
    "\n",
    "sns.barplot(x = 'Gender',y = 'Amount',data = sales_gen)\n",
    "                       "
   ]
  },
  {
   "cell_type": "code",
   "execution_count": null,
   "id": "f43d690e-5a2f-4411-9313-84032612ca67",
   "metadata": {},
   "outputs": [],
   "source": [
    "df.columns"
   ]
  },
  {
   "cell_type": "code",
   "execution_count": null,
   "id": "84801412-1204-4ad1-aa07-f090695399ad",
   "metadata": {},
   "outputs": [],
   "source": [
    "ax = sns.countplot(x='Age Group',hue = 'Gender',data = df)\n",
    "for bars in ax.containers:\n",
    "    ax.bar_label(bars)"
   ]
  },
  {
   "cell_type": "code",
   "execution_count": null,
   "id": "6f43a138-097f-483a-9e28-25ae9430a99d",
   "metadata": {},
   "outputs": [],
   "source": [
    "sales_age = df.groupby(['Age Group'],as_index = False)['Amount'].sum().sort_values(by= 'Amount',ascending = False)\n",
    "sns.barplot(x = 'Age Group',y= 'Amount',data = sales_age)\n"
   ]
  },
  {
   "cell_type": "code",
   "execution_count": null,
   "id": "2b42f653-4160-44d0-b87c-9c49b66b8a49",
   "metadata": {},
   "outputs": [],
   "source": [
    "df.columns"
   ]
  },
  {
   "cell_type": "code",
   "execution_count": null,
   "id": "8a9ea641-8a3b-49d3-a298-33b482f714ff",
   "metadata": {},
   "outputs": [],
   "source": [
    "states_info = df.groupby(['State'], as_index = False)['Orders'].sum().sort_values(by= 'Orders',ascending = False).head(10)\n",
    "sns.set(rc={'figure.figsize':(15,5)})\n",
    "sns.barplot(x = 'State',y = 'Orders',data = states_info)\n"
   ]
  },
  {
   "cell_type": "code",
   "execution_count": null,
   "id": "062d016e-96bc-436b-bc2a-f5219a5d5f69",
   "metadata": {},
   "outputs": [],
   "source": [
    "df.info()"
   ]
  },
  {
   "cell_type": "code",
   "execution_count": null,
   "id": "cb930268-3ae3-4dba-8142-601a81ce58ff",
   "metadata": {},
   "outputs": [],
   "source": [
    "ax = sns.countplot(x='Shaadhi',data = df)\n",
    "sns.set(rc = {'figure.figsize' : (2,3)})\n",
    "for bars in ax.containers:\n",
    "    ax.bar_label(bars)"
   ]
  },
  {
   "cell_type": "code",
   "execution_count": null,
   "id": "42a3244f-9944-4445-84f3-2d8bc0bf45a0",
   "metadata": {},
   "outputs": [],
   "source": [
    "sales_shaadhi = df.groupby(['Shaadhi','Gender'],as_index = False)['Amount'].sum().sort_values(by= 'Amount',ascending = False)\n",
    "sns.set(rc = {'figure.figsize' : (10,5)})\n",
    "ax = sns.barplot(x = 'Shaadhi',y= 'Amount',hue = 'Gender',data = sales_shaadhi)\n",
    "for bars in ax.containers:\n",
    "    ax.bar_label(bars)"
   ]
  },
  {
   "cell_type": "code",
   "execution_count": null,
   "id": "23eceff2-bcab-4e9a-995f-c419651024f3",
   "metadata": {},
   "outputs": [],
   "source": [
    "sales_shaadhi = df.groupby(['Shaadhi','Gender'],as_index = False)['Amount'].sum().sort_values(by= 'Amount',ascending = False)"
   ]
  },
  {
   "cell_type": "code",
   "execution_count": null,
   "id": "e6aa572c-edac-49ae-a0ef-eee648da081f",
   "metadata": {},
   "outputs": [],
   "source": [
    "sales_shaadhi"
   ]
  },
  {
   "cell_type": "code",
   "execution_count": null,
   "id": "3f2ef760-2b96-413f-beab-d269bc440bcb",
   "metadata": {},
   "outputs": [],
   "source": [
    "ax = sns.countplot(data = df , x = 'Occupation')\n",
    "sns.set(rc = {'figure.figsize':(23,5)})\n",
    "for bars in ax.containers:\n",
    "    ax.bar_label(bars)"
   ]
  },
  {
   "cell_type": "code",
   "execution_count": null,
   "id": "02ef9c3f-75a1-4c2e-86df-785ff8ae4cb5",
   "metadata": {},
   "outputs": [],
   "source": [
    "occupation_spend = df.groupby(['Occupation'],as_index = False)['Amount'].sum().sort_values(by= 'Amount',ascending = False)\n",
    "af = sns.barplot(x = 'Occupation', y = 'Amount',data = occupation_spend)\n",
    "for bars in af.containers:\n",
    "    af.bar_label(bars)\n"
   ]
  },
  {
   "cell_type": "code",
   "execution_count": null,
   "id": "28fcbad3-52cc-49e7-a6f5-33650330ed97",
   "metadata": {
    "scrolled": true
   },
   "outputs": [],
   "source": [
    "sns.set(rc={'figure.figsize':(20,5)})\n",
    "ax = sns.countplot(data = df, x = 'Product_Category')\n",
    "\n",
    "for bars in ax.containers:\n",
    "    ax.bar_label(bars)"
   ]
  },
  {
   "cell_type": "code",
   "execution_count": null,
   "id": "e3c47dc2-7c37-434c-8324-cfae5e274b31",
   "metadata": {},
   "outputs": [],
   "source": [
    "sales_state = df.groupby(['Product_Category'], as_index=False)['Amount'].sum().sort_values(by='Amount', ascending=False).head(10)\n",
    "\n",
    "sns.set(rc={'figure.figsize':(20,5)})\n",
    "sns.barplot(data = sales_state, x = 'Product_Category',y= 'Amount')"
   ]
  },
  {
   "cell_type": "code",
   "execution_count": null,
   "id": "8254fa53-7894-4480-8f48-37292d6ce4da",
   "metadata": {},
   "outputs": [],
   "source": [
    "sales_state = df.groupby(['Product_ID'], as_index=False)['Orders'].sum().sort_values(by='Orders', ascending=False).head(10)\n",
    "\n",
    "sns.set(rc={'figure.figsize':(20,5)})\n",
    "sns.barplot(data = sales_state, x = 'Product_ID',y= 'Orders')"
   ]
  },
  {
   "cell_type": "code",
   "execution_count": null,
   "id": "c37f3bbb-31fb-4e67-a51a-3a55dc1e3949",
   "metadata": {},
   "outputs": [],
   "source": []
  }
 ],
 "metadata": {
  "kernelspec": {
   "display_name": "Python 3 (ipykernel)",
   "language": "python",
   "name": "python3"
  },
  "language_info": {
   "codemirror_mode": {
    "name": "ipython",
    "version": 3
   },
   "file_extension": ".py",
   "mimetype": "text/x-python",
   "name": "python",
   "nbconvert_exporter": "python",
   "pygments_lexer": "ipython3",
   "version": "3.12.4"
  }
 },
 "nbformat": 4,
 "nbformat_minor": 5
}
